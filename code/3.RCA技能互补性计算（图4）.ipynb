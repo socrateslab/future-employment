{
 "cells": [
  {
   "cell_type": "markdown",
   "metadata": {},
   "source": [
    "### 3.RCA技能互补性计算（图4）"
   ]
  },
  {
   "cell_type": "markdown",
   "metadata": {
    "heading_collapsed": true
   },
   "source": [
    "#### (1)原论文的全行业技能互补性还原\n",
    "A.构建onet（j，s）---161种技能(知识、能力、技能、工作活动）的重要度"
   ]
  },
  {
   "cell_type": "code",
   "execution_count": 74,
   "metadata": {
    "ExecuteTime": {
     "end_time": "2020-09-09T01:56:18.817008Z",
     "start_time": "2020-09-09T01:56:17.578722Z"
    },
    "hidden": true
   },
   "outputs": [
    {
     "data": {
      "text/html": [
       "<div>\n",
       "<style scoped>\n",
       "    .dataframe tbody tr th:only-of-type {\n",
       "        vertical-align: middle;\n",
       "    }\n",
       "\n",
       "    .dataframe tbody tr th {\n",
       "        vertical-align: top;\n",
       "    }\n",
       "\n",
       "    .dataframe thead th {\n",
       "        text-align: right;\n",
       "    }\n",
       "</style>\n",
       "<table border=\"1\" class=\"dataframe\">\n",
       "  <thead>\n",
       "    <tr style=\"text-align: right;\">\n",
       "      <th></th>\n",
       "      <th>O*NET-SOC Code</th>\n",
       "      <th>Element ID</th>\n",
       "      <th>Element Name</th>\n",
       "      <th>Scale ID</th>\n",
       "      <th>Data Value</th>\n",
       "      <th>N</th>\n",
       "      <th>Standard Error</th>\n",
       "      <th>Lower CI Bound</th>\n",
       "      <th>Upper CI Bound</th>\n",
       "      <th>Recommend Suppress</th>\n",
       "      <th>Not Relevant</th>\n",
       "      <th>Date</th>\n",
       "      <th>Domain Source</th>\n",
       "      <th>category</th>\n",
       "    </tr>\n",
       "  </thead>\n",
       "  <tbody>\n",
       "    <tr>\n",
       "      <th>0</th>\n",
       "      <td>11-1011.00</td>\n",
       "      <td>2.A.1.a</td>\n",
       "      <td>Reading Comprehension</td>\n",
       "      <td>IM</td>\n",
       "      <td>4.12</td>\n",
       "      <td>8.0</td>\n",
       "      <td>0.13</td>\n",
       "      <td>3.88</td>\n",
       "      <td>4.37</td>\n",
       "      <td>N</td>\n",
       "      <td>NaN</td>\n",
       "      <td>07/2014</td>\n",
       "      <td>Analyst</td>\n",
       "      <td>11</td>\n",
       "    </tr>\n",
       "    <tr>\n",
       "      <th>2</th>\n",
       "      <td>11-1011.00</td>\n",
       "      <td>2.A.1.b</td>\n",
       "      <td>Active Listening</td>\n",
       "      <td>IM</td>\n",
       "      <td>4.12</td>\n",
       "      <td>8.0</td>\n",
       "      <td>0.13</td>\n",
       "      <td>3.88</td>\n",
       "      <td>4.37</td>\n",
       "      <td>N</td>\n",
       "      <td>NaN</td>\n",
       "      <td>07/2014</td>\n",
       "      <td>Analyst</td>\n",
       "      <td>11</td>\n",
       "    </tr>\n",
       "    <tr>\n",
       "      <th>4</th>\n",
       "      <td>11-1011.00</td>\n",
       "      <td>2.A.1.c</td>\n",
       "      <td>Writing</td>\n",
       "      <td>IM</td>\n",
       "      <td>4.00</td>\n",
       "      <td>8.0</td>\n",
       "      <td>0.00</td>\n",
       "      <td>4.00</td>\n",
       "      <td>4.00</td>\n",
       "      <td>N</td>\n",
       "      <td>NaN</td>\n",
       "      <td>07/2014</td>\n",
       "      <td>Analyst</td>\n",
       "      <td>11</td>\n",
       "    </tr>\n",
       "    <tr>\n",
       "      <th>6</th>\n",
       "      <td>11-1011.00</td>\n",
       "      <td>2.A.1.d</td>\n",
       "      <td>Speaking</td>\n",
       "      <td>IM</td>\n",
       "      <td>4.38</td>\n",
       "      <td>8.0</td>\n",
       "      <td>0.18</td>\n",
       "      <td>4.02</td>\n",
       "      <td>4.73</td>\n",
       "      <td>N</td>\n",
       "      <td>NaN</td>\n",
       "      <td>07/2014</td>\n",
       "      <td>Analyst</td>\n",
       "      <td>11</td>\n",
       "    </tr>\n",
       "    <tr>\n",
       "      <th>8</th>\n",
       "      <td>11-1011.00</td>\n",
       "      <td>2.A.1.e</td>\n",
       "      <td>Mathematics</td>\n",
       "      <td>IM</td>\n",
       "      <td>3.25</td>\n",
       "      <td>8.0</td>\n",
       "      <td>0.16</td>\n",
       "      <td>2.93</td>\n",
       "      <td>3.57</td>\n",
       "      <td>N</td>\n",
       "      <td>NaN</td>\n",
       "      <td>07/2014</td>\n",
       "      <td>Analyst</td>\n",
       "      <td>11</td>\n",
       "    </tr>\n",
       "    <tr>\n",
       "      <th>10</th>\n",
       "      <td>11-1011.00</td>\n",
       "      <td>2.A.1.f</td>\n",
       "      <td>Science</td>\n",
       "      <td>IM</td>\n",
       "      <td>1.88</td>\n",
       "      <td>8.0</td>\n",
       "      <td>0.13</td>\n",
       "      <td>1.63</td>\n",
       "      <td>2.12</td>\n",
       "      <td>N</td>\n",
       "      <td>NaN</td>\n",
       "      <td>07/2014</td>\n",
       "      <td>Analyst</td>\n",
       "      <td>11</td>\n",
       "    </tr>\n",
       "    <tr>\n",
       "      <th>12</th>\n",
       "      <td>11-1011.00</td>\n",
       "      <td>2.A.2.a</td>\n",
       "      <td>Critical Thinking</td>\n",
       "      <td>IM</td>\n",
       "      <td>4.38</td>\n",
       "      <td>8.0</td>\n",
       "      <td>0.18</td>\n",
       "      <td>4.02</td>\n",
       "      <td>4.73</td>\n",
       "      <td>N</td>\n",
       "      <td>NaN</td>\n",
       "      <td>07/2014</td>\n",
       "      <td>Analyst</td>\n",
       "      <td>11</td>\n",
       "    </tr>\n",
       "    <tr>\n",
       "      <th>14</th>\n",
       "      <td>11-1011.00</td>\n",
       "      <td>2.A.2.b</td>\n",
       "      <td>Active Learning</td>\n",
       "      <td>IM</td>\n",
       "      <td>4.00</td>\n",
       "      <td>8.0</td>\n",
       "      <td>0.00</td>\n",
       "      <td>4.00</td>\n",
       "      <td>4.00</td>\n",
       "      <td>N</td>\n",
       "      <td>NaN</td>\n",
       "      <td>07/2014</td>\n",
       "      <td>Analyst</td>\n",
       "      <td>11</td>\n",
       "    </tr>\n",
       "    <tr>\n",
       "      <th>16</th>\n",
       "      <td>11-1011.00</td>\n",
       "      <td>2.A.2.c</td>\n",
       "      <td>Learning Strategies</td>\n",
       "      <td>IM</td>\n",
       "      <td>3.12</td>\n",
       "      <td>8.0</td>\n",
       "      <td>0.13</td>\n",
       "      <td>2.88</td>\n",
       "      <td>3.37</td>\n",
       "      <td>N</td>\n",
       "      <td>NaN</td>\n",
       "      <td>07/2014</td>\n",
       "      <td>Analyst</td>\n",
       "      <td>11</td>\n",
       "    </tr>\n",
       "    <tr>\n",
       "      <th>18</th>\n",
       "      <td>11-1011.00</td>\n",
       "      <td>2.A.2.d</td>\n",
       "      <td>Monitoring</td>\n",
       "      <td>IM</td>\n",
       "      <td>4.12</td>\n",
       "      <td>8.0</td>\n",
       "      <td>0.13</td>\n",
       "      <td>3.88</td>\n",
       "      <td>4.37</td>\n",
       "      <td>N</td>\n",
       "      <td>NaN</td>\n",
       "      <td>07/2014</td>\n",
       "      <td>Analyst</td>\n",
       "      <td>11</td>\n",
       "    </tr>\n",
       "    <tr>\n",
       "      <th>20</th>\n",
       "      <td>11-1011.00</td>\n",
       "      <td>2.B.1.a</td>\n",
       "      <td>Social Perceptiveness</td>\n",
       "      <td>IM</td>\n",
       "      <td>4.25</td>\n",
       "      <td>8.0</td>\n",
       "      <td>0.16</td>\n",
       "      <td>3.93</td>\n",
       "      <td>4.57</td>\n",
       "      <td>N</td>\n",
       "      <td>NaN</td>\n",
       "      <td>07/2014</td>\n",
       "      <td>Analyst</td>\n",
       "      <td>11</td>\n",
       "    </tr>\n",
       "    <tr>\n",
       "      <th>22</th>\n",
       "      <td>11-1011.00</td>\n",
       "      <td>2.B.1.b</td>\n",
       "      <td>Coordination</td>\n",
       "      <td>IM</td>\n",
       "      <td>4.25</td>\n",
       "      <td>8.0</td>\n",
       "      <td>0.16</td>\n",
       "      <td>3.93</td>\n",
       "      <td>4.57</td>\n",
       "      <td>N</td>\n",
       "      <td>NaN</td>\n",
       "      <td>07/2014</td>\n",
       "      <td>Analyst</td>\n",
       "      <td>11</td>\n",
       "    </tr>\n",
       "    <tr>\n",
       "      <th>24</th>\n",
       "      <td>11-1011.00</td>\n",
       "      <td>2.B.1.c</td>\n",
       "      <td>Persuasion</td>\n",
       "      <td>IM</td>\n",
       "      <td>4.12</td>\n",
       "      <td>8.0</td>\n",
       "      <td>0.13</td>\n",
       "      <td>3.88</td>\n",
       "      <td>4.37</td>\n",
       "      <td>N</td>\n",
       "      <td>NaN</td>\n",
       "      <td>07/2014</td>\n",
       "      <td>Analyst</td>\n",
       "      <td>11</td>\n",
       "    </tr>\n",
       "    <tr>\n",
       "      <th>26</th>\n",
       "      <td>11-1011.00</td>\n",
       "      <td>2.B.1.d</td>\n",
       "      <td>Negotiation</td>\n",
       "      <td>IM</td>\n",
       "      <td>4.12</td>\n",
       "      <td>8.0</td>\n",
       "      <td>0.13</td>\n",
       "      <td>3.88</td>\n",
       "      <td>4.37</td>\n",
       "      <td>N</td>\n",
       "      <td>NaN</td>\n",
       "      <td>07/2014</td>\n",
       "      <td>Analyst</td>\n",
       "      <td>11</td>\n",
       "    </tr>\n",
       "    <tr>\n",
       "      <th>28</th>\n",
       "      <td>11-1011.00</td>\n",
       "      <td>2.B.1.e</td>\n",
       "      <td>Instructing</td>\n",
       "      <td>IM</td>\n",
       "      <td>3.12</td>\n",
       "      <td>8.0</td>\n",
       "      <td>0.13</td>\n",
       "      <td>2.88</td>\n",
       "      <td>3.37</td>\n",
       "      <td>N</td>\n",
       "      <td>NaN</td>\n",
       "      <td>07/2014</td>\n",
       "      <td>Analyst</td>\n",
       "      <td>11</td>\n",
       "    </tr>\n",
       "    <tr>\n",
       "      <th>30</th>\n",
       "      <td>11-1011.00</td>\n",
       "      <td>2.B.1.f</td>\n",
       "      <td>Service Orientation</td>\n",
       "      <td>IM</td>\n",
       "      <td>3.12</td>\n",
       "      <td>8.0</td>\n",
       "      <td>0.13</td>\n",
       "      <td>2.88</td>\n",
       "      <td>3.37</td>\n",
       "      <td>N</td>\n",
       "      <td>NaN</td>\n",
       "      <td>07/2014</td>\n",
       "      <td>Analyst</td>\n",
       "      <td>11</td>\n",
       "    </tr>\n",
       "    <tr>\n",
       "      <th>32</th>\n",
       "      <td>11-1011.00</td>\n",
       "      <td>2.B.2.i</td>\n",
       "      <td>Complex Problem Solving</td>\n",
       "      <td>IM</td>\n",
       "      <td>4.38</td>\n",
       "      <td>8.0</td>\n",
       "      <td>0.18</td>\n",
       "      <td>4.02</td>\n",
       "      <td>4.73</td>\n",
       "      <td>N</td>\n",
       "      <td>NaN</td>\n",
       "      <td>07/2014</td>\n",
       "      <td>Analyst</td>\n",
       "      <td>11</td>\n",
       "    </tr>\n",
       "    <tr>\n",
       "      <th>34</th>\n",
       "      <td>11-1011.00</td>\n",
       "      <td>2.B.3.a</td>\n",
       "      <td>Operations Analysis</td>\n",
       "      <td>IM</td>\n",
       "      <td>3.12</td>\n",
       "      <td>8.0</td>\n",
       "      <td>0.13</td>\n",
       "      <td>2.88</td>\n",
       "      <td>3.37</td>\n",
       "      <td>N</td>\n",
       "      <td>NaN</td>\n",
       "      <td>07/2014</td>\n",
       "      <td>Analyst</td>\n",
       "      <td>11</td>\n",
       "    </tr>\n",
       "    <tr>\n",
       "      <th>36</th>\n",
       "      <td>11-1011.00</td>\n",
       "      <td>2.B.3.b</td>\n",
       "      <td>Technology Design</td>\n",
       "      <td>IM</td>\n",
       "      <td>1.75</td>\n",
       "      <td>8.0</td>\n",
       "      <td>0.16</td>\n",
       "      <td>1.43</td>\n",
       "      <td>2.07</td>\n",
       "      <td>N</td>\n",
       "      <td>NaN</td>\n",
       "      <td>07/2014</td>\n",
       "      <td>Analyst</td>\n",
       "      <td>11</td>\n",
       "    </tr>\n",
       "    <tr>\n",
       "      <th>38</th>\n",
       "      <td>11-1011.00</td>\n",
       "      <td>2.B.3.c</td>\n",
       "      <td>Equipment Selection</td>\n",
       "      <td>IM</td>\n",
       "      <td>1.12</td>\n",
       "      <td>8.0</td>\n",
       "      <td>0.13</td>\n",
       "      <td>1.00</td>\n",
       "      <td>1.37</td>\n",
       "      <td>N</td>\n",
       "      <td>NaN</td>\n",
       "      <td>07/2014</td>\n",
       "      <td>Analyst</td>\n",
       "      <td>11</td>\n",
       "    </tr>\n",
       "    <tr>\n",
       "      <th>40</th>\n",
       "      <td>11-1011.00</td>\n",
       "      <td>2.B.3.d</td>\n",
       "      <td>Installation</td>\n",
       "      <td>IM</td>\n",
       "      <td>1.00</td>\n",
       "      <td>8.0</td>\n",
       "      <td>0.00</td>\n",
       "      <td>1.00</td>\n",
       "      <td>1.00</td>\n",
       "      <td>N</td>\n",
       "      <td>NaN</td>\n",
       "      <td>07/2014</td>\n",
       "      <td>Analyst</td>\n",
       "      <td>11</td>\n",
       "    </tr>\n",
       "    <tr>\n",
       "      <th>42</th>\n",
       "      <td>11-1011.00</td>\n",
       "      <td>2.B.3.e</td>\n",
       "      <td>Programming</td>\n",
       "      <td>IM</td>\n",
       "      <td>1.62</td>\n",
       "      <td>8.0</td>\n",
       "      <td>0.18</td>\n",
       "      <td>1.27</td>\n",
       "      <td>1.98</td>\n",
       "      <td>N</td>\n",
       "      <td>NaN</td>\n",
       "      <td>07/2014</td>\n",
       "      <td>Analyst</td>\n",
       "      <td>11</td>\n",
       "    </tr>\n",
       "    <tr>\n",
       "      <th>44</th>\n",
       "      <td>11-1011.00</td>\n",
       "      <td>2.B.3.g</td>\n",
       "      <td>Operation Monitoring</td>\n",
       "      <td>IM</td>\n",
       "      <td>1.88</td>\n",
       "      <td>8.0</td>\n",
       "      <td>0.23</td>\n",
       "      <td>1.43</td>\n",
       "      <td>2.32</td>\n",
       "      <td>N</td>\n",
       "      <td>NaN</td>\n",
       "      <td>07/2014</td>\n",
       "      <td>Analyst</td>\n",
       "      <td>11</td>\n",
       "    </tr>\n",
       "    <tr>\n",
       "      <th>46</th>\n",
       "      <td>11-1011.00</td>\n",
       "      <td>2.B.3.h</td>\n",
       "      <td>Operation and Control</td>\n",
       "      <td>IM</td>\n",
       "      <td>1.75</td>\n",
       "      <td>8.0</td>\n",
       "      <td>0.16</td>\n",
       "      <td>1.43</td>\n",
       "      <td>2.07</td>\n",
       "      <td>N</td>\n",
       "      <td>NaN</td>\n",
       "      <td>07/2014</td>\n",
       "      <td>Analyst</td>\n",
       "      <td>11</td>\n",
       "    </tr>\n",
       "    <tr>\n",
       "      <th>48</th>\n",
       "      <td>11-1011.00</td>\n",
       "      <td>2.B.3.j</td>\n",
       "      <td>Equipment Maintenance</td>\n",
       "      <td>IM</td>\n",
       "      <td>1.00</td>\n",
       "      <td>8.0</td>\n",
       "      <td>0.00</td>\n",
       "      <td>1.00</td>\n",
       "      <td>1.00</td>\n",
       "      <td>N</td>\n",
       "      <td>NaN</td>\n",
       "      <td>07/2014</td>\n",
       "      <td>Analyst</td>\n",
       "      <td>11</td>\n",
       "    </tr>\n",
       "    <tr>\n",
       "      <th>50</th>\n",
       "      <td>11-1011.00</td>\n",
       "      <td>2.B.3.k</td>\n",
       "      <td>Troubleshooting</td>\n",
       "      <td>IM</td>\n",
       "      <td>1.00</td>\n",
       "      <td>8.0</td>\n",
       "      <td>0.00</td>\n",
       "      <td>1.00</td>\n",
       "      <td>1.00</td>\n",
       "      <td>N</td>\n",
       "      <td>NaN</td>\n",
       "      <td>07/2014</td>\n",
       "      <td>Analyst</td>\n",
       "      <td>11</td>\n",
       "    </tr>\n",
       "    <tr>\n",
       "      <th>52</th>\n",
       "      <td>11-1011.00</td>\n",
       "      <td>2.B.3.l</td>\n",
       "      <td>Repairing</td>\n",
       "      <td>IM</td>\n",
       "      <td>1.00</td>\n",
       "      <td>8.0</td>\n",
       "      <td>0.00</td>\n",
       "      <td>1.00</td>\n",
       "      <td>1.00</td>\n",
       "      <td>N</td>\n",
       "      <td>NaN</td>\n",
       "      <td>07/2014</td>\n",
       "      <td>Analyst</td>\n",
       "      <td>11</td>\n",
       "    </tr>\n",
       "    <tr>\n",
       "      <th>54</th>\n",
       "      <td>11-1011.00</td>\n",
       "      <td>2.B.3.m</td>\n",
       "      <td>Quality Control Analysis</td>\n",
       "      <td>IM</td>\n",
       "      <td>1.75</td>\n",
       "      <td>8.0</td>\n",
       "      <td>0.25</td>\n",
       "      <td>1.26</td>\n",
       "      <td>2.24</td>\n",
       "      <td>N</td>\n",
       "      <td>NaN</td>\n",
       "      <td>07/2014</td>\n",
       "      <td>Analyst</td>\n",
       "      <td>11</td>\n",
       "    </tr>\n",
       "    <tr>\n",
       "      <th>56</th>\n",
       "      <td>11-1011.00</td>\n",
       "      <td>2.B.4.e</td>\n",
       "      <td>Judgment and Decision Making</td>\n",
       "      <td>IM</td>\n",
       "      <td>4.50</td>\n",
       "      <td>8.0</td>\n",
       "      <td>0.19</td>\n",
       "      <td>4.13</td>\n",
       "      <td>4.87</td>\n",
       "      <td>N</td>\n",
       "      <td>NaN</td>\n",
       "      <td>07/2014</td>\n",
       "      <td>Analyst</td>\n",
       "      <td>11</td>\n",
       "    </tr>\n",
       "    <tr>\n",
       "      <th>58</th>\n",
       "      <td>11-1011.00</td>\n",
       "      <td>2.B.4.g</td>\n",
       "      <td>Systems Analysis</td>\n",
       "      <td>IM</td>\n",
       "      <td>4.12</td>\n",
       "      <td>8.0</td>\n",
       "      <td>0.13</td>\n",
       "      <td>3.88</td>\n",
       "      <td>4.37</td>\n",
       "      <td>N</td>\n",
       "      <td>NaN</td>\n",
       "      <td>07/2014</td>\n",
       "      <td>Analyst</td>\n",
       "      <td>11</td>\n",
       "    </tr>\n",
       "    <tr>\n",
       "      <th>60</th>\n",
       "      <td>11-1011.00</td>\n",
       "      <td>2.B.4.h</td>\n",
       "      <td>Systems Evaluation</td>\n",
       "      <td>IM</td>\n",
       "      <td>4.12</td>\n",
       "      <td>8.0</td>\n",
       "      <td>0.13</td>\n",
       "      <td>3.88</td>\n",
       "      <td>4.37</td>\n",
       "      <td>N</td>\n",
       "      <td>NaN</td>\n",
       "      <td>07/2014</td>\n",
       "      <td>Analyst</td>\n",
       "      <td>11</td>\n",
       "    </tr>\n",
       "    <tr>\n",
       "      <th>62</th>\n",
       "      <td>11-1011.00</td>\n",
       "      <td>2.B.5.a</td>\n",
       "      <td>Time Management</td>\n",
       "      <td>IM</td>\n",
       "      <td>4.00</td>\n",
       "      <td>8.0</td>\n",
       "      <td>0.00</td>\n",
       "      <td>4.00</td>\n",
       "      <td>4.00</td>\n",
       "      <td>N</td>\n",
       "      <td>NaN</td>\n",
       "      <td>07/2014</td>\n",
       "      <td>Analyst</td>\n",
       "      <td>11</td>\n",
       "    </tr>\n",
       "    <tr>\n",
       "      <th>64</th>\n",
       "      <td>11-1011.00</td>\n",
       "      <td>2.B.5.b</td>\n",
       "      <td>Management of Financial Resources</td>\n",
       "      <td>IM</td>\n",
       "      <td>4.12</td>\n",
       "      <td>8.0</td>\n",
       "      <td>0.13</td>\n",
       "      <td>3.88</td>\n",
       "      <td>4.37</td>\n",
       "      <td>N</td>\n",
       "      <td>NaN</td>\n",
       "      <td>07/2014</td>\n",
       "      <td>Analyst</td>\n",
       "      <td>11</td>\n",
       "    </tr>\n",
       "    <tr>\n",
       "      <th>66</th>\n",
       "      <td>11-1011.00</td>\n",
       "      <td>2.B.5.c</td>\n",
       "      <td>Management of Material Resources</td>\n",
       "      <td>IM</td>\n",
       "      <td>3.88</td>\n",
       "      <td>8.0</td>\n",
       "      <td>0.13</td>\n",
       "      <td>3.63</td>\n",
       "      <td>4.12</td>\n",
       "      <td>N</td>\n",
       "      <td>NaN</td>\n",
       "      <td>07/2014</td>\n",
       "      <td>Analyst</td>\n",
       "      <td>11</td>\n",
       "    </tr>\n",
       "    <tr>\n",
       "      <th>68</th>\n",
       "      <td>11-1011.00</td>\n",
       "      <td>2.B.5.d</td>\n",
       "      <td>Management of Personnel Resources</td>\n",
       "      <td>IM</td>\n",
       "      <td>4.25</td>\n",
       "      <td>8.0</td>\n",
       "      <td>0.16</td>\n",
       "      <td>3.93</td>\n",
       "      <td>4.57</td>\n",
       "      <td>N</td>\n",
       "      <td>NaN</td>\n",
       "      <td>07/2014</td>\n",
       "      <td>Analyst</td>\n",
       "      <td>11</td>\n",
       "    </tr>\n",
       "    <tr>\n",
       "      <th>70</th>\n",
       "      <td>11-1011.03</td>\n",
       "      <td>2.A.1.a</td>\n",
       "      <td>Reading Comprehension</td>\n",
       "      <td>IM</td>\n",
       "      <td>4.00</td>\n",
       "      <td>8.0</td>\n",
       "      <td>0.00</td>\n",
       "      <td>4.00</td>\n",
       "      <td>4.00</td>\n",
       "      <td>N</td>\n",
       "      <td>NaN</td>\n",
       "      <td>07/2013</td>\n",
       "      <td>Analyst</td>\n",
       "      <td>11</td>\n",
       "    </tr>\n",
       "  </tbody>\n",
       "</table>\n",
       "</div>"
      ],
      "text/plain": [
       "   O*NET-SOC Code Element ID                       Element Name Scale ID  \\\n",
       "0      11-1011.00    2.A.1.a              Reading Comprehension       IM   \n",
       "2      11-1011.00    2.A.1.b                   Active Listening       IM   \n",
       "4      11-1011.00    2.A.1.c                            Writing       IM   \n",
       "6      11-1011.00    2.A.1.d                           Speaking       IM   \n",
       "8      11-1011.00    2.A.1.e                        Mathematics       IM   \n",
       "10     11-1011.00    2.A.1.f                            Science       IM   \n",
       "12     11-1011.00    2.A.2.a                  Critical Thinking       IM   \n",
       "14     11-1011.00    2.A.2.b                    Active Learning       IM   \n",
       "16     11-1011.00    2.A.2.c                Learning Strategies       IM   \n",
       "18     11-1011.00    2.A.2.d                         Monitoring       IM   \n",
       "20     11-1011.00    2.B.1.a              Social Perceptiveness       IM   \n",
       "22     11-1011.00    2.B.1.b                       Coordination       IM   \n",
       "24     11-1011.00    2.B.1.c                         Persuasion       IM   \n",
       "26     11-1011.00    2.B.1.d                        Negotiation       IM   \n",
       "28     11-1011.00    2.B.1.e                        Instructing       IM   \n",
       "30     11-1011.00    2.B.1.f                Service Orientation       IM   \n",
       "32     11-1011.00    2.B.2.i            Complex Problem Solving       IM   \n",
       "34     11-1011.00    2.B.3.a                Operations Analysis       IM   \n",
       "36     11-1011.00    2.B.3.b                  Technology Design       IM   \n",
       "38     11-1011.00    2.B.3.c                Equipment Selection       IM   \n",
       "40     11-1011.00    2.B.3.d                       Installation       IM   \n",
       "42     11-1011.00    2.B.3.e                        Programming       IM   \n",
       "44     11-1011.00    2.B.3.g               Operation Monitoring       IM   \n",
       "46     11-1011.00    2.B.3.h              Operation and Control       IM   \n",
       "48     11-1011.00    2.B.3.j              Equipment Maintenance       IM   \n",
       "50     11-1011.00    2.B.3.k                    Troubleshooting       IM   \n",
       "52     11-1011.00    2.B.3.l                          Repairing       IM   \n",
       "54     11-1011.00    2.B.3.m           Quality Control Analysis       IM   \n",
       "56     11-1011.00    2.B.4.e       Judgment and Decision Making       IM   \n",
       "58     11-1011.00    2.B.4.g                   Systems Analysis       IM   \n",
       "60     11-1011.00    2.B.4.h                 Systems Evaluation       IM   \n",
       "62     11-1011.00    2.B.5.a                    Time Management       IM   \n",
       "64     11-1011.00    2.B.5.b  Management of Financial Resources       IM   \n",
       "66     11-1011.00    2.B.5.c   Management of Material Resources       IM   \n",
       "68     11-1011.00    2.B.5.d  Management of Personnel Resources       IM   \n",
       "70     11-1011.03    2.A.1.a              Reading Comprehension       IM   \n",
       "\n",
       "    Data Value    N  Standard Error  Lower CI Bound  Upper CI Bound  \\\n",
       "0         4.12  8.0            0.13            3.88            4.37   \n",
       "2         4.12  8.0            0.13            3.88            4.37   \n",
       "4         4.00  8.0            0.00            4.00            4.00   \n",
       "6         4.38  8.0            0.18            4.02            4.73   \n",
       "8         3.25  8.0            0.16            2.93            3.57   \n",
       "10        1.88  8.0            0.13            1.63            2.12   \n",
       "12        4.38  8.0            0.18            4.02            4.73   \n",
       "14        4.00  8.0            0.00            4.00            4.00   \n",
       "16        3.12  8.0            0.13            2.88            3.37   \n",
       "18        4.12  8.0            0.13            3.88            4.37   \n",
       "20        4.25  8.0            0.16            3.93            4.57   \n",
       "22        4.25  8.0            0.16            3.93            4.57   \n",
       "24        4.12  8.0            0.13            3.88            4.37   \n",
       "26        4.12  8.0            0.13            3.88            4.37   \n",
       "28        3.12  8.0            0.13            2.88            3.37   \n",
       "30        3.12  8.0            0.13            2.88            3.37   \n",
       "32        4.38  8.0            0.18            4.02            4.73   \n",
       "34        3.12  8.0            0.13            2.88            3.37   \n",
       "36        1.75  8.0            0.16            1.43            2.07   \n",
       "38        1.12  8.0            0.13            1.00            1.37   \n",
       "40        1.00  8.0            0.00            1.00            1.00   \n",
       "42        1.62  8.0            0.18            1.27            1.98   \n",
       "44        1.88  8.0            0.23            1.43            2.32   \n",
       "46        1.75  8.0            0.16            1.43            2.07   \n",
       "48        1.00  8.0            0.00            1.00            1.00   \n",
       "50        1.00  8.0            0.00            1.00            1.00   \n",
       "52        1.00  8.0            0.00            1.00            1.00   \n",
       "54        1.75  8.0            0.25            1.26            2.24   \n",
       "56        4.50  8.0            0.19            4.13            4.87   \n",
       "58        4.12  8.0            0.13            3.88            4.37   \n",
       "60        4.12  8.0            0.13            3.88            4.37   \n",
       "62        4.00  8.0            0.00            4.00            4.00   \n",
       "64        4.12  8.0            0.13            3.88            4.37   \n",
       "66        3.88  8.0            0.13            3.63            4.12   \n",
       "68        4.25  8.0            0.16            3.93            4.57   \n",
       "70        4.00  8.0            0.00            4.00            4.00   \n",
       "\n",
       "   Recommend Suppress Not Relevant     Date Domain Source category  \n",
       "0                   N          NaN  07/2014       Analyst       11  \n",
       "2                   N          NaN  07/2014       Analyst       11  \n",
       "4                   N          NaN  07/2014       Analyst       11  \n",
       "6                   N          NaN  07/2014       Analyst       11  \n",
       "8                   N          NaN  07/2014       Analyst       11  \n",
       "10                  N          NaN  07/2014       Analyst       11  \n",
       "12                  N          NaN  07/2014       Analyst       11  \n",
       "14                  N          NaN  07/2014       Analyst       11  \n",
       "16                  N          NaN  07/2014       Analyst       11  \n",
       "18                  N          NaN  07/2014       Analyst       11  \n",
       "20                  N          NaN  07/2014       Analyst       11  \n",
       "22                  N          NaN  07/2014       Analyst       11  \n",
       "24                  N          NaN  07/2014       Analyst       11  \n",
       "26                  N          NaN  07/2014       Analyst       11  \n",
       "28                  N          NaN  07/2014       Analyst       11  \n",
       "30                  N          NaN  07/2014       Analyst       11  \n",
       "32                  N          NaN  07/2014       Analyst       11  \n",
       "34                  N          NaN  07/2014       Analyst       11  \n",
       "36                  N          NaN  07/2014       Analyst       11  \n",
       "38                  N          NaN  07/2014       Analyst       11  \n",
       "40                  N          NaN  07/2014       Analyst       11  \n",
       "42                  N          NaN  07/2014       Analyst       11  \n",
       "44                  N          NaN  07/2014       Analyst       11  \n",
       "46                  N          NaN  07/2014       Analyst       11  \n",
       "48                  N          NaN  07/2014       Analyst       11  \n",
       "50                  N          NaN  07/2014       Analyst       11  \n",
       "52                  N          NaN  07/2014       Analyst       11  \n",
       "54                  N          NaN  07/2014       Analyst       11  \n",
       "56                  N          NaN  07/2014       Analyst       11  \n",
       "58                  N          NaN  07/2014       Analyst       11  \n",
       "60                  N          NaN  07/2014       Analyst       11  \n",
       "62                  N          NaN  07/2014       Analyst       11  \n",
       "64                  N          NaN  07/2014       Analyst       11  \n",
       "66                  N          NaN  07/2014       Analyst       11  \n",
       "68                  N          NaN  07/2014       Analyst       11  \n",
       "70                  N          NaN  07/2013       Analyst       11  "
      ]
     },
     "execution_count": 74,
     "metadata": {},
     "output_type": "execute_result"
    }
   ],
   "source": [
    "import pandas as pd\n",
    "\n",
    "#skills\n",
    "df_all=open('/Users/Asus/Desktop/文件夹/项目/人工智能时代媒体就业/data/onet_db_23_2_text/Skills.txt')\n",
    "df_all_s = pd.read_csv(df_all, sep = '\\t')\n",
    "df_all_s['category'] = [i[:2] for i in df_all_s['O*NET-SOC Code']]\n",
    "df_all_s=df_all_s[df_all_s['Scale ID']=='IM']\n",
    "#knowledge\n",
    "df_all1=open('/Users/Asus/Desktop/文件夹/项目/人工智能时代媒体就业/data/onet_db_23_2_text/Knowledge.txt')\n",
    "df_all_s1 = pd.read_csv(df_all1, sep = '\\t')\n",
    "df_all_s1['category'] = [i[:2] for i in df_all_s1['O*NET-SOC Code']]\n",
    "df_all_s1=df_all_s1[df_all_s1['Scale ID']=='IM']\n",
    "#abilitys\n",
    "df_all2=open('/Users/Asus/Desktop/文件夹/项目/人工智能时代媒体就业/data/onet_db_23_2_text/Abilities.txt')\n",
    "df_all_s2 = pd.read_csv(df_all2, sep = '\\t')\n",
    "df_all_s2['category'] = [i[:2] for i in df_all_s2['O*NET-SOC Code']]\n",
    "df_all_s2=df_all_s2[df_all_s2['Scale ID']=='IM']\n",
    "#work activities\n",
    "df_all3=open('/Users/Asus/Desktop/文件夹/项目/人工智能时代媒体就业/data/onet_db_23_2_text/Work Activities.txt')\n",
    "df_all_s3 = pd.read_csv(df_all3, sep = '\\t')\n",
    "df_all_s3['category'] = [i[:2] for i in df_all_s3['O*NET-SOC Code']]\n",
    "df_all_s3=df_all_s3[df_all_s3['Scale ID']=='IM']\n",
    "\n",
    "#四个表格进行拼接\n",
    "df_all_s=pd.concat([df_all_s,df_all_s1,df_all_s2,df_all_s3],axis=0)\n",
    "df_all_s[:36]"
   ]
  },
  {
   "cell_type": "code",
   "execution_count": 75,
   "metadata": {
    "ExecuteTime": {
     "end_time": "2020-09-09T01:56:24.131947Z",
     "start_time": "2020-09-09T01:56:24.026009Z"
    },
    "hidden": true
   },
   "outputs": [
    {
     "name": "stderr",
     "output_type": "stream",
     "text": [
      "C:\\Anaconda3\\lib\\site-packages\\ipykernel_launcher.py:1: FutureWarning: by argument to sort_index is deprecated, please use .sort_values(by=...)\n",
      "  \"\"\"Entry point for launching an IPython kernel.\n"
     ]
    }
   ],
   "source": [
    "df_all_s = df_all_s.sort_index(by=['O*NET-SOC Code','Element ID'])"
   ]
  },
  {
   "cell_type": "code",
   "execution_count": 76,
   "metadata": {
    "ExecuteTime": {
     "end_time": "2020-09-09T01:56:25.732026Z",
     "start_time": "2020-09-09T01:56:25.719032Z"
    },
    "hidden": true
   },
   "outputs": [
    {
     "data": {
      "text/plain": [
       "161"
      ]
     },
     "execution_count": 76,
     "metadata": {},
     "output_type": "execute_result"
    }
   ],
   "source": [
    "len(df_all_s['Element ID'].unique())#161种技能、能力、知识、工作活动"
   ]
  },
  {
   "cell_type": "code",
   "execution_count": 77,
   "metadata": {
    "ExecuteTime": {
     "end_time": "2020-09-09T01:56:26.720454Z",
     "start_time": "2020-09-09T01:56:26.704466Z"
    },
    "hidden": true
   },
   "outputs": [
    {
     "data": {
      "text/plain": [
       "967"
      ]
     },
     "execution_count": 77,
     "metadata": {},
     "output_type": "execute_result"
    }
   ],
   "source": [
    "len(df_all_s['O*NET-SOC Code'].unique())#967种职业"
   ]
  },
  {
   "cell_type": "code",
   "execution_count": 78,
   "metadata": {
    "ExecuteTime": {
     "end_time": "2020-09-09T01:56:29.497856Z",
     "start_time": "2020-09-09T01:56:29.494859Z"
    },
    "hidden": true
   },
   "outputs": [],
   "source": [
    "def divide(x):\n",
    "    return (x-1)/4   "
   ]
  },
  {
   "cell_type": "code",
   "execution_count": 79,
   "metadata": {
    "ExecuteTime": {
     "end_time": "2020-09-09T01:56:30.371352Z",
     "start_time": "2020-09-09T01:56:30.286402Z"
    },
    "hidden": true
   },
   "outputs": [
    {
     "data": {
      "text/html": [
       "<div>\n",
       "<style scoped>\n",
       "    .dataframe tbody tr th:only-of-type {\n",
       "        vertical-align: middle;\n",
       "    }\n",
       "\n",
       "    .dataframe tbody tr th {\n",
       "        vertical-align: top;\n",
       "    }\n",
       "\n",
       "    .dataframe thead th {\n",
       "        text-align: right;\n",
       "    }\n",
       "</style>\n",
       "<table border=\"1\" class=\"dataframe\">\n",
       "  <thead>\n",
       "    <tr style=\"text-align: right;\">\n",
       "      <th></th>\n",
       "      <th>O*NET-SOC Code</th>\n",
       "      <th>Element ID</th>\n",
       "      <th>Element Name</th>\n",
       "      <th>Scale ID</th>\n",
       "      <th>Data Value</th>\n",
       "      <th>N</th>\n",
       "      <th>Standard Error</th>\n",
       "      <th>Lower CI Bound</th>\n",
       "      <th>Upper CI Bound</th>\n",
       "      <th>Recommend Suppress</th>\n",
       "      <th>Not Relevant</th>\n",
       "      <th>Date</th>\n",
       "      <th>Domain Source</th>\n",
       "      <th>category</th>\n",
       "      <th>onet</th>\n",
       "    </tr>\n",
       "  </thead>\n",
       "  <tbody>\n",
       "    <tr>\n",
       "      <th>0</th>\n",
       "      <td>11-1011.00</td>\n",
       "      <td>1.A.1.a.1</td>\n",
       "      <td>Oral Comprehension</td>\n",
       "      <td>IM</td>\n",
       "      <td>4.50</td>\n",
       "      <td>8.0</td>\n",
       "      <td>0.19</td>\n",
       "      <td>4.13</td>\n",
       "      <td>4.87</td>\n",
       "      <td>N</td>\n",
       "      <td>NaN</td>\n",
       "      <td>07/2014</td>\n",
       "      <td>Analyst</td>\n",
       "      <td>11</td>\n",
       "      <td>0.8750</td>\n",
       "    </tr>\n",
       "    <tr>\n",
       "      <th>2</th>\n",
       "      <td>11-1011.00</td>\n",
       "      <td>1.A.1.a.2</td>\n",
       "      <td>Written Comprehension</td>\n",
       "      <td>IM</td>\n",
       "      <td>4.25</td>\n",
       "      <td>8.0</td>\n",
       "      <td>0.16</td>\n",
       "      <td>3.93</td>\n",
       "      <td>4.57</td>\n",
       "      <td>N</td>\n",
       "      <td>NaN</td>\n",
       "      <td>07/2014</td>\n",
       "      <td>Analyst</td>\n",
       "      <td>11</td>\n",
       "      <td>0.8125</td>\n",
       "    </tr>\n",
       "    <tr>\n",
       "      <th>4</th>\n",
       "      <td>11-1011.00</td>\n",
       "      <td>1.A.1.a.3</td>\n",
       "      <td>Oral Expression</td>\n",
       "      <td>IM</td>\n",
       "      <td>4.38</td>\n",
       "      <td>8.0</td>\n",
       "      <td>0.18</td>\n",
       "      <td>4.02</td>\n",
       "      <td>4.73</td>\n",
       "      <td>N</td>\n",
       "      <td>NaN</td>\n",
       "      <td>07/2014</td>\n",
       "      <td>Analyst</td>\n",
       "      <td>11</td>\n",
       "      <td>0.8450</td>\n",
       "    </tr>\n",
       "    <tr>\n",
       "      <th>6</th>\n",
       "      <td>11-1011.00</td>\n",
       "      <td>1.A.1.a.4</td>\n",
       "      <td>Written Expression</td>\n",
       "      <td>IM</td>\n",
       "      <td>4.12</td>\n",
       "      <td>8.0</td>\n",
       "      <td>0.13</td>\n",
       "      <td>3.88</td>\n",
       "      <td>4.37</td>\n",
       "      <td>N</td>\n",
       "      <td>NaN</td>\n",
       "      <td>07/2014</td>\n",
       "      <td>Analyst</td>\n",
       "      <td>11</td>\n",
       "      <td>0.7800</td>\n",
       "    </tr>\n",
       "    <tr>\n",
       "      <th>8</th>\n",
       "      <td>11-1011.00</td>\n",
       "      <td>1.A.1.b.1</td>\n",
       "      <td>Fluency of Ideas</td>\n",
       "      <td>IM</td>\n",
       "      <td>3.88</td>\n",
       "      <td>8.0</td>\n",
       "      <td>0.13</td>\n",
       "      <td>3.63</td>\n",
       "      <td>4.12</td>\n",
       "      <td>N</td>\n",
       "      <td>NaN</td>\n",
       "      <td>07/2014</td>\n",
       "      <td>Analyst</td>\n",
       "      <td>11</td>\n",
       "      <td>0.7200</td>\n",
       "    </tr>\n",
       "  </tbody>\n",
       "</table>\n",
       "</div>"
      ],
      "text/plain": [
       "  O*NET-SOC Code Element ID           Element Name Scale ID  Data Value    N  \\\n",
       "0     11-1011.00  1.A.1.a.1     Oral Comprehension       IM        4.50  8.0   \n",
       "2     11-1011.00  1.A.1.a.2  Written Comprehension       IM        4.25  8.0   \n",
       "4     11-1011.00  1.A.1.a.3        Oral Expression       IM        4.38  8.0   \n",
       "6     11-1011.00  1.A.1.a.4     Written Expression       IM        4.12  8.0   \n",
       "8     11-1011.00  1.A.1.b.1       Fluency of Ideas       IM        3.88  8.0   \n",
       "\n",
       "   Standard Error  Lower CI Bound  Upper CI Bound Recommend Suppress  \\\n",
       "0            0.19            4.13            4.87                  N   \n",
       "2            0.16            3.93            4.57                  N   \n",
       "4            0.18            4.02            4.73                  N   \n",
       "6            0.13            3.88            4.37                  N   \n",
       "8            0.13            3.63            4.12                  N   \n",
       "\n",
       "  Not Relevant     Date Domain Source category    onet  \n",
       "0          NaN  07/2014       Analyst       11  0.8750  \n",
       "2          NaN  07/2014       Analyst       11  0.8125  \n",
       "4          NaN  07/2014       Analyst       11  0.8450  \n",
       "6          NaN  07/2014       Analyst       11  0.7800  \n",
       "8          NaN  07/2014       Analyst       11  0.7200  "
      ]
     },
     "execution_count": 79,
     "metadata": {},
     "output_type": "execute_result"
    }
   ],
   "source": [
    "df_all_s['onet']=list(map(divide,df_all_s['Data Value']))\n",
    "df_all_s.head()"
   ]
  },
  {
   "cell_type": "raw",
   "metadata": {
    "hidden": true
   },
   "source": [
    "B.建构全行业的RCA指标--职业j对技能s的依赖程度"
   ]
  },
  {
   "cell_type": "code",
   "execution_count": 80,
   "metadata": {
    "ExecuteTime": {
     "end_time": "2020-09-09T01:56:41.058196Z",
     "start_time": "2020-09-09T01:56:40.906283Z"
    },
    "hidden": true
   },
   "outputs": [],
   "source": [
    "df_all_1=open('/Users/Asus/Desktop/文件夹/项目/人工智能时代媒体就业/data/onet_db_23_2_text/Occupation Data.txt',encoding=\"UTF-8\")\n",
    "df_all_od = pd.read_csv(df_all_1, sep = '\\t')\n",
    "df_all_js=df_all_s.merge(df_all_od,how='left',on='O*NET-SOC Code')"
   ]
  },
  {
   "cell_type": "code",
   "execution_count": 81,
   "metadata": {
    "ExecuteTime": {
     "end_time": "2020-09-09T01:56:41.820759Z",
     "start_time": "2020-09-09T01:56:41.817760Z"
    },
    "hidden": true
   },
   "outputs": [],
   "source": [
    "# df_all_js[:165]"
   ]
  },
  {
   "cell_type": "code",
   "execution_count": 82,
   "metadata": {
    "ExecuteTime": {
     "end_time": "2020-09-09T01:56:42.705265Z",
     "start_time": "2020-09-09T01:56:42.470383Z"
    },
    "hidden": true
   },
   "outputs": [],
   "source": [
    "#967个职业每个职业161种技能重要度总和\n",
    "import numpy as np\n",
    "list_all_1=[]\n",
    "for i in range(160,155687,161):\n",
    "    sum_all_1=np.sum(df_all_js['onet'][i-160:i] )\n",
    "    list_all_1.append(sum_all_1)"
   ]
  },
  {
   "cell_type": "code",
   "execution_count": 83,
   "metadata": {
    "ExecuteTime": {
     "end_time": "2020-09-09T01:56:45.601622Z",
     "start_time": "2020-09-09T01:56:43.256930Z"
    },
    "hidden": true
   },
   "outputs": [],
   "source": [
    "#每一个技能在967种职业中的重要度之和\n",
    "list_all_2=[]\n",
    "sum_all_2=0\n",
    "for j in range(161):\n",
    "    sum_all_2=sum(df_all_js['onet'][j+161*i]for i in range(967))\n",
    "    list_all_2.append(sum_all_2)"
   ]
  },
  {
   "cell_type": "code",
   "execution_count": 84,
   "metadata": {
    "ExecuteTime": {
     "end_time": "2020-09-09T01:56:47.284609Z",
     "start_time": "2020-09-09T01:56:47.272618Z"
    },
    "hidden": true
   },
   "outputs": [
    {
     "data": {
      "text/plain": [
       "62834.10000000143"
      ]
     },
     "execution_count": 84,
     "metadata": {},
     "output_type": "execute_result"
    }
   ],
   "source": [
    "sum_all_3=sum(df_all_js['onet'])\n",
    "sum_all_3"
   ]
  },
  {
   "cell_type": "code",
   "execution_count": 85,
   "metadata": {
    "ExecuteTime": {
     "end_time": "2020-09-09T01:56:48.236061Z",
     "start_time": "2020-09-09T01:56:48.101140Z"
    },
    "hidden": true
   },
   "outputs": [],
   "source": [
    "m_all_list1=[]#定位是哪一份职业\n",
    "n_all_list1=[]#定位是哪一个技能\n",
    "for s in range(155687):\n",
    "    m=s//161\n",
    "    m_all_list1.append(m)\n",
    "    n=s%161\n",
    "    n_all_list1.append(n)"
   ]
  },
  {
   "cell_type": "code",
   "execution_count": 86,
   "metadata": {
    "ExecuteTime": {
     "end_time": "2020-09-09T01:56:48.911674Z",
     "start_time": "2020-09-09T01:56:48.907677Z"
    },
    "hidden": true
   },
   "outputs": [],
   "source": [
    "def rca(c):\n",
    "    return (df_all_js['onet'][c]/list_all_1[m_all_list1[c]])/(list_all_2[n_all_list1[c]]/sum_all_3)"
   ]
  },
  {
   "cell_type": "code",
   "execution_count": 87,
   "metadata": {
    "ExecuteTime": {
     "end_time": "2020-09-09T01:56:51.721104Z",
     "start_time": "2020-09-09T01:56:49.605291Z"
    },
    "hidden": true
   },
   "outputs": [],
   "source": [
    "rca_all_list=[]\n",
    "for i in range(155687):\n",
    "    rca_all_list.append(rca(i))"
   ]
  },
  {
   "cell_type": "code",
   "execution_count": 88,
   "metadata": {
    "ExecuteTime": {
     "end_time": "2020-09-09T01:56:52.337698Z",
     "start_time": "2020-09-09T01:56:52.280732Z"
    },
    "hidden": true
   },
   "outputs": [
    {
     "data": {
      "text/html": [
       "<div>\n",
       "<style scoped>\n",
       "    .dataframe tbody tr th:only-of-type {\n",
       "        vertical-align: middle;\n",
       "    }\n",
       "\n",
       "    .dataframe tbody tr th {\n",
       "        vertical-align: top;\n",
       "    }\n",
       "\n",
       "    .dataframe thead th {\n",
       "        text-align: right;\n",
       "    }\n",
       "</style>\n",
       "<table border=\"1\" class=\"dataframe\">\n",
       "  <thead>\n",
       "    <tr style=\"text-align: right;\">\n",
       "      <th></th>\n",
       "      <th>O*NET-SOC Code</th>\n",
       "      <th>Element ID</th>\n",
       "      <th>Element Name</th>\n",
       "      <th>Scale ID</th>\n",
       "      <th>Data Value</th>\n",
       "      <th>N</th>\n",
       "      <th>Standard Error</th>\n",
       "      <th>Lower CI Bound</th>\n",
       "      <th>Upper CI Bound</th>\n",
       "      <th>Recommend Suppress</th>\n",
       "      <th>Not Relevant</th>\n",
       "      <th>Date</th>\n",
       "      <th>Domain Source</th>\n",
       "      <th>category</th>\n",
       "      <th>onet</th>\n",
       "      <th>Title</th>\n",
       "      <th>Description</th>\n",
       "      <th>rca</th>\n",
       "    </tr>\n",
       "  </thead>\n",
       "  <tbody>\n",
       "    <tr>\n",
       "      <th>0</th>\n",
       "      <td>11-1011.00</td>\n",
       "      <td>1.A.1.a.1</td>\n",
       "      <td>Oral Comprehension</td>\n",
       "      <td>IM</td>\n",
       "      <td>4.50</td>\n",
       "      <td>8.0</td>\n",
       "      <td>0.19</td>\n",
       "      <td>4.13</td>\n",
       "      <td>4.87</td>\n",
       "      <td>N</td>\n",
       "      <td>NaN</td>\n",
       "      <td>07/2014</td>\n",
       "      <td>Analyst</td>\n",
       "      <td>11</td>\n",
       "      <td>0.8750</td>\n",
       "      <td>Chief Executives</td>\n",
       "      <td>Determine and formulate policies and provide o...</td>\n",
       "      <td>1.137333</td>\n",
       "    </tr>\n",
       "    <tr>\n",
       "      <th>1</th>\n",
       "      <td>11-1011.00</td>\n",
       "      <td>1.A.1.a.2</td>\n",
       "      <td>Written Comprehension</td>\n",
       "      <td>IM</td>\n",
       "      <td>4.25</td>\n",
       "      <td>8.0</td>\n",
       "      <td>0.16</td>\n",
       "      <td>3.93</td>\n",
       "      <td>4.57</td>\n",
       "      <td>N</td>\n",
       "      <td>NaN</td>\n",
       "      <td>07/2014</td>\n",
       "      <td>Analyst</td>\n",
       "      <td>11</td>\n",
       "      <td>0.8125</td>\n",
       "      <td>Chief Executives</td>\n",
       "      <td>Determine and formulate policies and provide o...</td>\n",
       "      <td>1.145811</td>\n",
       "    </tr>\n",
       "    <tr>\n",
       "      <th>2</th>\n",
       "      <td>11-1011.00</td>\n",
       "      <td>1.A.1.a.3</td>\n",
       "      <td>Oral Expression</td>\n",
       "      <td>IM</td>\n",
       "      <td>4.38</td>\n",
       "      <td>8.0</td>\n",
       "      <td>0.18</td>\n",
       "      <td>4.02</td>\n",
       "      <td>4.73</td>\n",
       "      <td>N</td>\n",
       "      <td>NaN</td>\n",
       "      <td>07/2014</td>\n",
       "      <td>Analyst</td>\n",
       "      <td>11</td>\n",
       "      <td>0.8450</td>\n",
       "      <td>Chief Executives</td>\n",
       "      <td>Determine and formulate policies and provide o...</td>\n",
       "      <td>1.112856</td>\n",
       "    </tr>\n",
       "    <tr>\n",
       "      <th>3</th>\n",
       "      <td>11-1011.00</td>\n",
       "      <td>1.A.1.a.4</td>\n",
       "      <td>Written Expression</td>\n",
       "      <td>IM</td>\n",
       "      <td>4.12</td>\n",
       "      <td>8.0</td>\n",
       "      <td>0.13</td>\n",
       "      <td>3.88</td>\n",
       "      <td>4.37</td>\n",
       "      <td>N</td>\n",
       "      <td>NaN</td>\n",
       "      <td>07/2014</td>\n",
       "      <td>Analyst</td>\n",
       "      <td>11</td>\n",
       "      <td>0.7800</td>\n",
       "      <td>Chief Executives</td>\n",
       "      <td>Determine and formulate policies and provide o...</td>\n",
       "      <td>1.207296</td>\n",
       "    </tr>\n",
       "    <tr>\n",
       "      <th>4</th>\n",
       "      <td>11-1011.00</td>\n",
       "      <td>1.A.1.b.1</td>\n",
       "      <td>Fluency of Ideas</td>\n",
       "      <td>IM</td>\n",
       "      <td>3.88</td>\n",
       "      <td>8.0</td>\n",
       "      <td>0.13</td>\n",
       "      <td>3.63</td>\n",
       "      <td>4.12</td>\n",
       "      <td>N</td>\n",
       "      <td>NaN</td>\n",
       "      <td>07/2014</td>\n",
       "      <td>Analyst</td>\n",
       "      <td>11</td>\n",
       "      <td>0.7200</td>\n",
       "      <td>Chief Executives</td>\n",
       "      <td>Determine and formulate policies and provide o...</td>\n",
       "      <td>1.366909</td>\n",
       "    </tr>\n",
       "  </tbody>\n",
       "</table>\n",
       "</div>"
      ],
      "text/plain": [
       "  O*NET-SOC Code Element ID           Element Name Scale ID  Data Value    N  \\\n",
       "0     11-1011.00  1.A.1.a.1     Oral Comprehension       IM        4.50  8.0   \n",
       "1     11-1011.00  1.A.1.a.2  Written Comprehension       IM        4.25  8.0   \n",
       "2     11-1011.00  1.A.1.a.3        Oral Expression       IM        4.38  8.0   \n",
       "3     11-1011.00  1.A.1.a.4     Written Expression       IM        4.12  8.0   \n",
       "4     11-1011.00  1.A.1.b.1       Fluency of Ideas       IM        3.88  8.0   \n",
       "\n",
       "   Standard Error  Lower CI Bound  Upper CI Bound Recommend Suppress  \\\n",
       "0            0.19            4.13            4.87                  N   \n",
       "1            0.16            3.93            4.57                  N   \n",
       "2            0.18            4.02            4.73                  N   \n",
       "3            0.13            3.88            4.37                  N   \n",
       "4            0.13            3.63            4.12                  N   \n",
       "\n",
       "  Not Relevant     Date Domain Source category    onet             Title  \\\n",
       "0          NaN  07/2014       Analyst       11  0.8750  Chief Executives   \n",
       "1          NaN  07/2014       Analyst       11  0.8125  Chief Executives   \n",
       "2          NaN  07/2014       Analyst       11  0.8450  Chief Executives   \n",
       "3          NaN  07/2014       Analyst       11  0.7800  Chief Executives   \n",
       "4          NaN  07/2014       Analyst       11  0.7200  Chief Executives   \n",
       "\n",
       "                                         Description       rca  \n",
       "0  Determine and formulate policies and provide o...  1.137333  \n",
       "1  Determine and formulate policies and provide o...  1.145811  \n",
       "2  Determine and formulate policies and provide o...  1.112856  \n",
       "3  Determine and formulate policies and provide o...  1.207296  \n",
       "4  Determine and formulate policies and provide o...  1.366909  "
      ]
     },
     "execution_count": 88,
     "metadata": {},
     "output_type": "execute_result"
    }
   ],
   "source": [
    "df_all_js['rca']=rca_all_list\n",
    "df_all_js.head()\n"
   ]
  },
  {
   "cell_type": "code",
   "execution_count": 106,
   "metadata": {
    "hidden": true
   },
   "outputs": [],
   "source": [
    "# df_all_js.to_csv('967种职业161种技能RCA值.csv')"
   ]
  },
  {
   "cell_type": "code",
   "execution_count": 89,
   "metadata": {
    "ExecuteTime": {
     "end_time": "2020-09-09T01:57:01.172608Z",
     "start_time": "2020-09-09T01:57:01.101651Z"
    },
    "hidden": true
   },
   "outputs": [],
   "source": [
    "df_all_js['e']=0\n",
    "df_all_js.loc[df_all_js.rca>1,'e'] = 1"
   ]
  },
  {
   "cell_type": "code",
   "execution_count": 90,
   "metadata": {
    "ExecuteTime": {
     "end_time": "2020-09-09T02:02:39.409983Z",
     "start_time": "2020-09-09T01:57:02.023120Z"
    },
    "hidden": true
   },
   "outputs": [],
   "source": [
    "fenzi_all=0\n",
    "liste_all=[]\n",
    "sume_all=0\n",
    "theta_all_list=[]\n",
    "i_list_all=[]\n",
    "l_list_all=[]\n",
    "t_list_all=[]\n",
    "fenzi_all_list=[]\n",
    "for j in range(161):\n",
    "    sume_all=sum(df_all_js['e'][j+161*i]for i in range(967))\n",
    "    liste_all.append(sume_all)\n",
    "for i in range(161):\n",
    "    for l in range(i+1,161):\n",
    "        fenmu_all=max(liste_all[i],liste_all[l])\n",
    "        fenzi_all=sum((df_all_js['e'][i+161*t]*df_all_js['e'][l+161*t])for t in range(967))\n",
    "        fenzi_all_list.append(fenzi_all)\n",
    "        theta_all=fenzi_all/fenmu_all\n",
    "        theta_all_list.append(theta_all)\n",
    "        fenzi_all=0"
   ]
  },
  {
   "cell_type": "code",
   "execution_count": 52,
   "metadata": {
    "ExecuteTime": {
     "end_time": "2020-06-18T12:38:24.988831Z",
     "start_time": "2020-06-18T12:38:24.910876Z"
    },
    "hidden": true
   },
   "outputs": [],
   "source": [
    "# a=pd.Series(theta_list)\n",
    "# a.to_csv('媒体行业theta.csv')"
   ]
  },
  {
   "cell_type": "code",
   "execution_count": 20,
   "metadata": {
    "ExecuteTime": {
     "end_time": "2020-05-01T08:29:56.884588Z",
     "start_time": "2020-05-01T08:29:56.421859Z"
    },
    "hidden": true
   },
   "outputs": [
    {
     "data": {
      "text/plain": [
       "Text(0,0.5,'占比')"
      ]
     },
     "execution_count": 20,
     "metadata": {},
     "output_type": "execute_result"
    },
    {
     "data": {
      "image/png": "[encoded data removed]",
      "text/plain": [
       "<matplotlib.figure.Figure at 0x180f0a13048>"
      ]
     },
     "metadata": {
      "needs_background": "light"
     },
     "output_type": "display_data"
    }
   ],
   "source": [
    "sns.distplot(theta_all_list,kde=True, hist=True, rug=False)\n",
    "plt.xlabel('技能互补性(θ)')\n",
    "plt.ylabel('密度概率')\n",
    "# plt.title('全行业技能互补性(θ)分布')"
   ]
  },
  {
   "cell_type": "markdown",
   "metadata": {
    "heading_collapsed": true
   },
   "source": [
    "#### （2）媒体行业的技能互补性还原 "
   ]
  },
  {
   "cell_type": "code",
   "execution_count": 91,
   "metadata": {
    "ExecuteTime": {
     "end_time": "2020-09-09T02:02:51.049227Z",
     "start_time": "2020-09-09T02:02:50.870331Z"
    },
    "hidden": true
   },
   "outputs": [],
   "source": [
    "df_all_js['category2']=[i[:5] for i in df_all_js['O*NET-SOC Code']]\n",
    "# df_all_js\n",
    "df_media1=df_all_js[df_all_js['category2']=='27-30' ]\n",
    "df_media2=df_all_js[df_all_js['category2']=='27-40' ]\n",
    "df_media=pd.concat([df_media1,df_media2],axis=0)"
   ]
  },
  {
   "cell_type": "code",
   "execution_count": 92,
   "metadata": {
    "ExecuteTime": {
     "end_time": "2020-09-09T02:02:52.254551Z",
     "start_time": "2020-09-09T02:02:52.247539Z"
    },
    "hidden": true
   },
   "outputs": [
    {
     "data": {
      "text/plain": [
       "array(['27-3011.00', '27-3012.00', '27-3021.00', '27-3022.00',\n",
       "       '27-3031.00', '27-3041.00', '27-3042.00', '27-3043.04',\n",
       "       '27-3043.05', '27-3091.00', '27-4011.00', '27-4012.00',\n",
       "       '27-4013.00', '27-4014.00', '27-4021.00', '27-4031.00',\n",
       "       '27-4032.00'], dtype=object)"
      ]
     },
     "execution_count": 92,
     "metadata": {},
     "output_type": "execute_result"
    }
   ],
   "source": [
    "df_media['O*NET-SOC Code'].unique()"
   ]
  },
  {
   "cell_type": "code",
   "execution_count": 93,
   "metadata": {
    "ExecuteTime": {
     "end_time": "2020-09-09T02:02:54.706120Z",
     "start_time": "2020-09-09T02:02:54.695127Z"
    },
    "hidden": true
   },
   "outputs": [
    {
     "name": "stderr",
     "output_type": "stream",
     "text": [
      "C:\\Anaconda3\\lib\\site-packages\\ipykernel_launcher.py:1: FutureWarning: by argument to sort_index is deprecated, please use .sort_values(by=...)\n",
      "  \"\"\"Entry point for launching an IPython kernel.\n"
     ]
    }
   ],
   "source": [
    "df_media= df_media.sort_index(by=['O*NET-SOC Code','Element ID'])"
   ]
  },
  {
   "cell_type": "code",
   "execution_count": 94,
   "metadata": {
    "ExecuteTime": {
     "end_time": "2020-09-09T02:02:55.811486Z",
     "start_time": "2020-09-09T02:02:55.808486Z"
    },
    "hidden": true
   },
   "outputs": [],
   "source": [
    "# df_media"
   ]
  },
  {
   "cell_type": "code",
   "execution_count": 95,
   "metadata": {
    "ExecuteTime": {
     "end_time": "2020-09-09T02:02:56.753943Z",
     "start_time": "2020-09-09T02:02:56.745949Z"
    },
    "hidden": true
   },
   "outputs": [
    {
     "data": {
      "text/plain": [
       "2737"
      ]
     },
     "execution_count": 95,
     "metadata": {},
     "output_type": "execute_result"
    }
   ],
   "source": [
    "len(df_media['Element ID'])"
   ]
  },
  {
   "cell_type": "code",
   "execution_count": 96,
   "metadata": {
    "ExecuteTime": {
     "end_time": "2020-09-09T02:03:25.613817Z",
     "start_time": "2020-09-09T02:02:57.913273Z"
    },
    "hidden": true
   },
   "outputs": [],
   "source": [
    "fenzi=0\n",
    "liste=[]\n",
    "sume=0\n",
    "theta_list=[]\n",
    "i_list=[]\n",
    "l_list=[]\n",
    "t_list=[]\n",
    "fenzi_list=[]\n",
    "for j in range(161):\n",
    "    sume=sum(list(df_media['e'])[j+161*i]for i in range(17))\n",
    "    liste.append(sume)\n",
    "for i in range(161):\n",
    "    for l in range(i+1,161):\n",
    "        fenmu=max(liste[i],liste[l])\n",
    "        fenzi=sum((list(df_media['e'])[i+161*t]*list(df_media['e'])[l+161*t])for t in range(17))\n",
    "        fenzi_list.append(fenzi)\n",
    "        if fenmu==0:\n",
    "            theta=0\n",
    "        else:\n",
    "            theta=fenzi/fenmu\n",
    "        theta_list.append(theta)\n",
    "        fenzi=0"
   ]
  },
  {
   "cell_type": "code",
   "execution_count": 117,
   "metadata": {
    "hidden": true
   },
   "outputs": [],
   "source": [
    "# f=[]\n",
    "# for i in range(161):\n",
    "#     for l in range(i+1,161):\n",
    "#         fenmu=max(liste[i],liste[l])\n",
    "#         f.append(fenmu)\n",
    "# f      "
   ]
  },
  {
   "cell_type": "code",
   "execution_count": 121,
   "metadata": {
    "hidden": true
   },
   "outputs": [
    {
     "name": "stdout",
     "output_type": "stream",
     "text": [
      "0 is in f\n"
     ]
    }
   ],
   "source": [
    "# if 0 in f:\n",
    "#     print('0 is in f')\n",
    "# if 0 not in f:\n",
    "#     print('0 is not in f')"
   ]
  },
  {
   "cell_type": "code",
   "execution_count": 97,
   "metadata": {
    "ExecuteTime": {
     "end_time": "2020-09-09T02:05:32.442165Z",
     "start_time": "2020-09-09T02:05:32.437167Z"
    },
    "hidden": true
   },
   "outputs": [
    {
     "data": {
      "text/plain": [
       "12880"
      ]
     },
     "execution_count": 97,
     "metadata": {},
     "output_type": "execute_result"
    }
   ],
   "source": [
    "len(theta_list)"
   ]
  },
  {
   "cell_type": "code",
   "execution_count": 127,
   "metadata": {
    "ExecuteTime": {
     "end_time": "2020-09-09T02:46:07.500644Z",
     "start_time": "2020-09-09T02:46:07.120866Z"
    },
    "hidden": true
   },
   "outputs": [
    {
     "data": {
      "text/plain": [
       "<matplotlib.legend.Legend at 0x19ccc39f978>"
      ]
     },
     "execution_count": 127,
     "metadata": {},
     "output_type": "execute_result"
    },
    {
     "data": {
      "image/png": "[encoded data removed]",
      "text/plain": [
       "<matplotlib.figure.Figure at 0x19cc9a61860>"
      ]
     },
     "metadata": {},
     "output_type": "display_data"
    }
   ],
   "source": [
    "plt.style.use('seaborn-dark-palette')\n",
    "import seaborn as sns\n",
    "from matplotlib import pyplot as plt\n",
    "plt.figure(dpi= 100,facecolor='white')\n",
    "sns.distplot(theta_list,kde=True, hist=False, kde_kws={\"label\":\"媒体行业\"},rug=False,color=\"r\")\n",
    "sns.distplot(theta_all_list,kde=True, hist=False, kde_kws={\"label\":\"全行业\"},rug=False,color=\"b\")\n",
    "# plt.hist(theta_list, color=\"blue\",bins = 10,alpha=.5,label=\"媒体行业\")\n",
    "# plt.hist(theta_all_list,color=\"red\", bins = 20,alpha=.5,label=\"全行业\")\n",
    "plt.xlabel('技能互补性(θ)',fontsize=16)\n",
    "plt.ylabel('数量',fontsize=16)\n",
    "plt.legend()\n",
    "# plt.grid(False) \n",
    "# plt.bar(X, Y, bar_width, align=\"center\", color=\"red\", label=\"AUC\", alpha=0.5)\n",
    "# plt.bar(X+bar_width, Y1, bar_width, color=\"purple\", align=\"center\", \\\n",
    "#         label=\"MAP\", alpha=0.5)\n"
   ]
  },
  {
   "cell_type": "markdown",
   "metadata": {
    "heading_collapsed": true
   },
   "source": [
    "#### （3）媒体行业与全行业中低互补性职业互补性分析"
   ]
  },
  {
   "cell_type": "code",
   "execution_count": 115,
   "metadata": {
    "ExecuteTime": {
     "end_time": "2020-09-09T02:15:14.582565Z",
     "start_time": "2020-09-09T02:15:14.394693Z"
    },
    "hidden": true
   },
   "outputs": [],
   "source": [
    "import pandas as pd\n",
    "df_media_theta= pd.read_csv(r'C:\\Users\\Asus\\Desktop\\文件夹\\项目\\人工智能时代媒体就业\\17\\媒体行业theta.csv',engine='python')\n",
    "df_all_theta= pd.read_csv(r'C:\\Users\\Asus\\Desktop\\文件夹\\项目\\人工智能时代媒体就业\\17\\全行业theta.csv',engine='python')"
   ]
  },
  {
   "cell_type": "code",
   "execution_count": 116,
   "metadata": {
    "ExecuteTime": {
     "end_time": "2020-09-09T02:15:15.378107Z",
     "start_time": "2020-09-09T02:15:15.368115Z"
    },
    "hidden": true
   },
   "outputs": [],
   "source": [
    "df_media_theta_high=df_media_theta[df_media_theta['互补性水平']>=0.6]\n",
    "df_all_theta_high=df_all_theta[df_all_theta['互补性水平']>=0.6]"
   ]
  },
  {
   "cell_type": "code",
   "execution_count": 117,
   "metadata": {
    "ExecuteTime": {
     "end_time": "2020-09-09T02:15:22.220165Z",
     "start_time": "2020-09-09T02:15:22.210172Z"
    },
    "hidden": true
   },
   "outputs": [],
   "source": [
    "df_media_theta_low=df_media_theta[df_media_theta['互补性水平']<=0.3]\n",
    "df_all_theta_low=df_all_theta[df_all_theta['互补性水平']<=0.3]"
   ]
  },
  {
   "cell_type": "code",
   "execution_count": 118,
   "metadata": {
    "ExecuteTime": {
     "end_time": "2020-09-09T02:15:37.183565Z",
     "start_time": "2020-09-09T02:15:37.172573Z"
    },
    "hidden": true
   },
   "outputs": [],
   "source": [
    "df_media_theta_medium=df_media_theta[(df_media_theta['互补性水平']>0.3) & (df_media_theta['互补性水平']<0.6)]\n",
    "df_all_theta_medium=df_all_theta[(df_all_theta['互补性水平']>0.3) & (df_all_theta['互补性水平']<0.6)]"
   ]
  },
  {
   "cell_type": "code",
   "execution_count": 123,
   "metadata": {
    "ExecuteTime": {
     "end_time": "2020-09-09T02:19:35.111495Z",
     "start_time": "2020-09-09T02:19:35.086529Z"
    },
    "hidden": true
   },
   "outputs": [],
   "source": [
    "# df_media_theta_medium.to_csv('t检验-媒体行业中互补性.csv')"
   ]
  },
  {
   "cell_type": "code",
   "execution_count": 126,
   "metadata": {
    "ExecuteTime": {
     "end_time": "2020-09-09T02:21:45.868193Z",
     "start_time": "2020-09-09T02:21:45.844202Z"
    },
    "hidden": true
   },
   "outputs": [],
   "source": [
    "df_all_theta_high.to_csv('t检验-全行业高互补性.csv')"
   ]
  },
  {
   "cell_type": "code",
   "execution_count": 23,
   "metadata": {
    "ExecuteTime": {
     "end_time": "2020-07-03T14:59:59.579753Z",
     "start_time": "2020-07-03T14:59:59.573756Z"
    },
    "hidden": true
   },
   "outputs": [
    {
     "data": {
      "text/plain": [
       "LeveneResult(statistic=42.9506985937121, pvalue=6.942879318201497e-11)"
      ]
     },
     "execution_count": 23,
     "metadata": {},
     "output_type": "execute_result"
    }
   ],
   "source": [
    "stats.levene(df_all_theta_high['互补性水平'],df_media_theta_high['互补性水平'])"
   ]
  },
  {
   "cell_type": "code",
   "execution_count": 24,
   "metadata": {
    "ExecuteTime": {
     "end_time": "2020-07-03T15:00:28.085322Z",
     "start_time": "2020-07-03T15:00:28.077328Z"
    },
    "hidden": true
   },
   "outputs": [
    {
     "data": {
      "text/plain": [
       "Ttest_indResult(statistic=-8.19449985780963, pvalue=4.1827567491268005e-16)"
      ]
     },
     "execution_count": 24,
     "metadata": {},
     "output_type": "execute_result"
    }
   ],
   "source": [
    "stats.ttest_ind(df_all_theta_high['互补性水平'],df_media_theta_high['互补性水平'],equal_var=False)"
   ]
  },
  {
   "cell_type": "code",
   "execution_count": 25,
   "metadata": {
    "ExecuteTime": {
     "end_time": "2020-07-03T15:01:05.613499Z",
     "start_time": "2020-07-03T15:01:05.605503Z"
    },
    "hidden": true
   },
   "outputs": [
    {
     "data": {
      "text/plain": [
       "LeveneResult(statistic=2470.45030003142, pvalue=0.0)"
      ]
     },
     "execution_count": 25,
     "metadata": {},
     "output_type": "execute_result"
    }
   ],
   "source": [
    "stats.levene(df_all_theta_low['互补性水平'],df_media_theta_low['互补性水平'])"
   ]
  },
  {
   "cell_type": "code",
   "execution_count": 27,
   "metadata": {
    "ExecuteTime": {
     "end_time": "2020-07-03T15:02:31.260425Z",
     "start_time": "2020-07-03T15:02:31.253431Z"
    },
    "hidden": true
   },
   "outputs": [
    {
     "data": {
      "text/plain": [
       "Ttest_indResult(statistic=64.04457281595654, pvalue=0.0)"
      ]
     },
     "execution_count": 27,
     "metadata": {},
     "output_type": "execute_result"
    }
   ],
   "source": [
    "stats.ttest_ind(df_all_theta_low['互补性水平'],df_media_theta_low['互补性水平'],equal_var=False)"
   ]
  },
  {
   "cell_type": "code",
   "execution_count": 28,
   "metadata": {
    "ExecuteTime": {
     "end_time": "2020-07-03T15:03:00.682738Z",
     "start_time": "2020-07-03T15:03:00.674745Z"
    },
    "hidden": true
   },
   "outputs": [
    {
     "data": {
      "text/plain": [
       "LeveneResult(statistic=0.12036631976128369, pvalue=0.7286430439161633)"
      ]
     },
     "execution_count": 28,
     "metadata": {},
     "output_type": "execute_result"
    }
   ],
   "source": [
    "stats.levene(df_all_theta_medium['互补性水平'],df_media_theta_medium['互补性水平'])"
   ]
  },
  {
   "cell_type": "code",
   "execution_count": 29,
   "metadata": {
    "ExecuteTime": {
     "end_time": "2020-07-03T15:03:17.887396Z",
     "start_time": "2020-07-03T15:03:17.878402Z"
    },
    "hidden": true
   },
   "outputs": [
    {
     "data": {
      "text/plain": [
       "Ttest_indResult(statistic=-0.7140903335609199, pvalue=0.47518392158927625)"
      ]
     },
     "execution_count": 29,
     "metadata": {},
     "output_type": "execute_result"
    }
   ],
   "source": [
    "stats.ttest_ind(df_all_theta_medium['互补性水平'],df_media_theta_medium['互补性水平'])"
   ]
  },
  {
   "cell_type": "markdown",
   "metadata": {},
   "source": [
    "#### （4）内容生产类媒体行业技能互补性"
   ]
  },
  {
   "cell_type": "code",
   "execution_count": null,
   "metadata": {},
   "outputs": [],
   "source": [
    "# df_all_js['category2']=[i[:5] for i in df_all_js['O*NET-SOC Code']]\n",
    "# df_all_js\n",
    "df_media1=df_all_js[df_all_js['O*NET-SOC Code']=='27-3021.00']\n",
    "df_media2=df_all_js[df_all_js['O*NET-SOC Code']=='27-3022.00']\n",
    "df_media3=df_all_js[df_all_js['O*NET-SOC Code']=='27-3041.00']\n",
    "df_media=pd.concat([df_media1,df_media2,df_media3],axis=0)"
   ]
  },
  {
   "cell_type": "code",
   "execution_count": null,
   "metadata": {},
   "outputs": [],
   "source": [
    "df_media= df_media.sort_values(by=['O*NET-SOC Code','Element ID'])"
   ]
  },
  {
   "cell_type": "code",
   "execution_count": null,
   "metadata": {},
   "outputs": [],
   "source": [
    "len(df_media['Element ID'])"
   ]
  },
  {
   "cell_type": "code",
   "execution_count": null,
   "metadata": {},
   "outputs": [],
   "source": [
    "fenzi=0\n",
    "liste=[]\n",
    "sume=0\n",
    "theta_list=[]\n",
    "i_list=[]\n",
    "l_list=[]\n",
    "t_list=[]\n",
    "fenzi_list=[]\n",
    "for j in range(161):\n",
    "    sume=sum(list(df_media['e'])[j+161*i]for i in range(3))\n",
    "    liste.append(sume)\n",
    "for i in range(161):\n",
    "    for l in range(i+1,161):\n",
    "        fenmu=max(liste[i],liste[l])\n",
    "        fenzi=sum((list(df_media['e'])[i+161*t]*list(df_media['e'])[l+161*t])for t in range(3))\n",
    "        fenzi_list.append(fenzi)\n",
    "        if fenmu==0:\n",
    "            theta=0\n",
    "        else:\n",
    "            theta=fenzi/fenmu\n",
    "        theta_list.append(theta)\n",
    "        fenzi=0"
   ]
  },
  {
   "cell_type": "code",
   "execution_count": null,
   "metadata": {},
   "outputs": [],
   "source": [
    "b=pd.Series(theta_list)\n",
    "b.to_csv('媒体行业（3种）theta.csv')"
   ]
  }
 ],
 "metadata": {
  "kernelspec": {
   "display_name": "Python 3",
   "language": "python",
   "name": "python3"
  },
  "language_info": {
   "codemirror_mode": {
    "name": "ipython",
    "version": 3
   },
   "file_extension": ".py",
   "mimetype": "text/x-python",
   "name": "python",
   "nbconvert_exporter": "python",
   "pygments_lexer": "ipython3",
   "version": "3.8.3"
  },
  "varInspector": {
   "cols": {
    "lenName": 16,
    "lenType": 16,
    "lenVar": 40
   },
   "kernels_config": {
    "python": {
     "delete_cmd_postfix": "",
     "delete_cmd_prefix": "del ",
     "library": "var_list.py",
     "varRefreshCmd": "print(var_dic_list())"
    },
    "r": {
     "delete_cmd_postfix": ") ",
     "delete_cmd_prefix": "rm(",
     "library": "var_list.r",
     "varRefreshCmd": "cat(var_dic_list()) "
    }
   },
   "types_to_exclude": [
    "module",
    "function",
    "builtin_function_or_method",
    "instance",
    "_Feature"
   ],
   "window_display": false
  }
 },
 "nbformat": 4,
 "nbformat_minor": 2
}
